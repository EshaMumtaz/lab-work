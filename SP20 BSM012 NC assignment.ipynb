{
 "cells": [
  {
   "cell_type": "markdown",
   "id": "5417346c",
   "metadata": {
    "id": "5417346c"
   },
   "source": [
    "# Assignment#1\n",
    "\n",
    "**TASK#1 :** Explain each code in detail by adding comments in each line.\n",
    "\n",
    "**TASK#2 :** Compare the results of following questions with all methods and also plot the graphs of all functions.\n",
    "\n",
    "# Note :\n",
    "\n",
    "All codes are solved for your better understanding and as reference. You need to find the soltution of all\n",
    "\n",
    "problems and then compare the results by making a table. For example you can make a table in Excel sheet.  \n",
    "\n",
    "**Questions#1**\n",
    "\n",
    "Find the roots of the following cubic equation:<br>\n",
    "    $x^3-5x-9=0$\n",
    "\n",
    "Take Guess1 = 2 and Guess2 = 3\n",
    "\n",
    "**Question#2**\n",
    "\n",
    "Find the roots of the following cubic equation:<br>\n",
    "    $2x^3-9.5x+7.5=0$\n",
    "    \n",
    "take initial guess = 5 \n",
    "\n",
    "**Question#3**\n",
    "\n",
    "Find the root of the following equation:\n",
    "\n",
    "$x^2-sin^2(x)-4x+1=0$\n",
    "\n",
    "take guess1 = 0 and guess2 = 1\n",
    "\n",
    "**Question#4**\n",
    "    \n",
    "Find the roots of the following equation\n",
    "\n",
    "$2x^2 - 5x + 3 = 0$ \n",
    "\n",
    "take guess1 = -2 and guess2 = 2"
   ]
  },
  {
   "cell_type": "markdown",
   "id": "4e84277c",
   "metadata": {
    "id": "4e84277c"
   },
   "source": [
    "# 1- Bisection Method"
   ]
  },
  {
   "cell_type": "code",
   "execution_count": null,
   "id": "fc5c0e8d",
   "metadata": {
    "id": "fc5c0e8d",
    "outputId": "94ac56f5-3cf7-4d80-dd45-4001c9646d4a"
   },
   "outputs": [
    {
     "name": "stdout",
     "output_type": "stream",
     "text": [
      "first guess: 2\n",
      "second guess: 3\n",
      "tolerance: 0.001\n",
      "iteration 1, x2 = 2.500000 and f(x2)= -5.875000\n",
      "iteration 2, x2 = 2.750000 and f(x2)= -1.953125\n",
      "iteration 3, x2 = 2.875000 and f(x2)= 0.388672\n",
      "iteration 4, x2 = 2.812500 and f(x2)= -0.815186\n",
      "iteration 5, x2 = 2.843750 and f(x2)= -0.221588\n",
      "iteration 6, x2 = 2.859375 and f(x2)= 0.081448\n",
      "iteration 7, x2 = 2.851562 and f(x2)= -0.070592\n",
      "iteration 8, x2 = 2.855469 and f(x2)= 0.005297\n",
      "iteration 9, x2 = 2.853516 and f(x2)= -0.032680\n",
      "iteration 10, x2 = 2.854492 and f(x2)= -0.013700\n",
      "iteration 11, x2 = 2.854980 and f(x2)= -0.004204\n",
      "iteration 12, x2 = 2.855225 and f(x2)= 0.000546\n",
      "root is :2.85522461 \n"
     ]
    }
   ],
   "source": [
    "# guess1 = 2, guess2 = 3    #initial guess TAKEN FOR OPPOSITE VALUE OF FUNCTION\n",
    "from math import sin      #imported from math library\n",
    "def bisection(x0,x1,e):    #bisection used\n",
    "    step = 1\n",
    "    condition = True\n",
    "    while condition:\n",
    "        x2 = (x0+x1)/2\n",
    "        print('iteration %d, x2 = %0.6f and f(x2)= %0.6f' %(step,x2,f(x2)))   #integeratin presented,x2 and fx2\n",
    "        \n",
    "        if f(x0) * f(x2) < 0:   #if product of x0 and x2 is lesss than zero\n",
    "            x1 = x2   #if x1 is equal to x2\n",
    "        else:\n",
    "            x0 = x2    #value exchange of x0 with meaan value x2\n",
    "        step = step +1    #step number incremented\n",
    "        condition = abs(f(x2)) > e\n",
    "    print('root is :%0.8f '%x2)\n",
    "#    return x2\n",
    "\n",
    "def f(x):   #to find function value of x0 and x1\n",
    "    return x**3-5*x-9\n",
    "\n",
    "x0 = float(input('first guess: '))    #input of first guess taken\n",
    "x1 = float(input('second guess: '))     # value of secound guess\n",
    "e  = float(input('tolerance: '))     # value of tolerence taken\n",
    "\n",
    "if f(x0) * f(x1) > 0.0:     #product of x0**x1>0\n",
    "    print('given guess values do not bracket the root')\n",
    "else:\n",
    "    root = bisection(x0,x1,e)    # bisection function called with x0 and x1 and starting tolerence value return value in root"
   ]
  },
  {
   "cell_type": "markdown",
   "id": "62b894b3",
   "metadata": {
    "id": "62b894b3"
   },
   "source": [
    "# 2- Newton's Raphson Method"
   ]
  },
  {
   "cell_type": "code",
   "execution_count": null,
   "id": "5040dac2",
   "metadata": {
    "id": "5040dac2",
    "outputId": "414a6a22-319c-4647-8609-e7062a09c2de"
   },
   "outputs": [
    {
     "name": "stdout",
     "output_type": "stream",
     "text": [
      "the root is 1.500 at 7 iterations.\n"
     ]
    }
   ],
   "source": [
    "from math import sin,cos     #newton rophson method definatin used\n",
    "def newton(fn,dfn,x,tol,maxiter):    #root in terms of initial guess\n",
    "    for i in range(maxiter):   #maxiter loop for that time it is  runnig\n",
    "        xnew = x - fn(x)/dfn(x)   xnew result\n",
    "        if abs(xnew-x)<tol: imcase  condition is not satisfied it will break                         \n",
    "            break    #iterations ended\n",
    "        x = xnew    #root value changes new root is formed\n",
    "    return xnew, i\n",
    "\n",
    "y = lambda x: 2*x**3-9.5*x+7.5     # cubic equations given\n",
    "dy = lambda x : 6*x**2-9.5      #function derivartive are formed\n",
    "\n",
    "x, n = newton(y, dy, 5, 0.0001, 100)    #fuction recalled and value changes back to x and n\n",
    "print('the root is %.3f at %d iterations.'%(x,n))\n"
   ]
  },
  {
   "cell_type": "markdown",
   "id": "55eeed2c",
   "metadata": {
    "id": "55eeed2c"
   },
   "source": [
    "# 3- Regula Falsi Method"
   ]
  },
  {
   "cell_type": "code",
   "execution_count": null,
   "id": "ca72b9b0",
   "metadata": {
    "id": "ca72b9b0",
    "outputId": "7b0aa83c-c7d8-48de-c8c6-0c116a17e25b"
   },
   "outputs": [
    {
     "name": "stdout",
     "output_type": "stream",
     "text": [
      "enter x1: 0\n",
      "enter x2: 1\n",
      "The root = 0.250324 at 4 false position\n"
     ]
    }
   ],
   "source": [
    "from math import sin     math library import\n",
    "def reg_falsi(f,x1,x2,tol=1.0e-6,maxfpos=100):     # regular false method definition introduced\n",
    "    \n",
    "    if f(x1) * f(x2)<0:    (if x1*x2<0)\n",
    "    for fpos in range(1,maxfpos+1):     #range of loop from 1-101\n",
    "            xh = x2 - (x2-x1)/(f(x2)-f(x1)) * f(x2)     #loop recived in xh\n",
    "            if abs(f(xh)) < tol:     #if tolerance>f(xh)\n",
    "                break    #statememt recalled after breaking loop\n",
    "            elif f(x1) * f(xh) < 0:  if product of x1 and xh is less than zero assin value of xh to x2\n",
    "                x2 = xh    # if product<0\n",
    "            else:\n",
    "                x1 = xh    # if product>0\n",
    "    else:\n",
    "        print('No roots exists within the given interval')\n",
    "        \n",
    "    return xh, fpos\n",
    "\n",
    "y = lambda x: x**2 - sin(x)**2 - 4*x + 1\n",
    "\n",
    "x1 = float(input('enter x1: '))     #first initial guess x1   \n",
    "x2 = float(input('enter x2: '))      #second initial guess x2 \n",
    "\n",
    "r, n = reg_falsi(y,x1,x2)     # reached fuction,recieved in r and n\n",
    "print('The root = %f at %d false position'%(r,n))"
   ]
  },
  {
   "cell_type": "markdown",
   "id": "170cac1e",
   "metadata": {
    "id": "170cac1e"
   },
   "source": [
    "# 4- Secant Method"
   ]
  },
  {
   "cell_type": "code",
   "execution_count": null,
   "id": "05c3d4fa",
   "metadata": {
    "id": "05c3d4fa",
    "outputId": "f62fb1bd-5ce7-4ed2-8543-785aef8c2f4e"
   },
   "outputs": [
    {
     "name": "stdout",
     "output_type": "stream",
     "text": [
      "enter x1: -2\n",
      "enter x2: 2\n",
      "Root = 1.500000 at 8 iterations\n"
     ]
    }
   ],
   "source": [
    "from math import sin     #math library imported\n",
    "def secant(fn,x1,x2,tol,maxiter):     #parameters given\n",
    "    for i in range(maxiter):    #loop of the matrix 100\n",
    "        #secant method formula\n",
    "        xnew  = x2 - (x2-x1)/(fn(x2)-fn(x1))*fn(x2)    # rot statded\n",
    "        if abs(xnew-x2) < tol:     #tolerence cheaking\n",
    "            break     # breking loop\n",
    "        else:\n",
    "            x1 = x2    # x1 and x2 value substitutred\n",
    "            x2 = xnew   #substituting value of a new in x2\n",
    "    else:\n",
    "        print('warning: Maximum number of iterations is reached')\n",
    "    return xnew, i    # step number and returning roor\n",
    "\n",
    "f = lambda x: 2*x**2 - 5*x + 3    # function of x\n",
    "\n",
    "x1 = float(input('enter x1: '))   #first value\n",
    "x2 = float(input('enter x2: '))     #second value\n",
    "\n",
    "r, n = secant(f,x1,x2,1.0e-6,100)    # reached fuction recieved im r and n\n",
    "\n",
    "print('Root = %f at %d iterations'%(r,n))"
   ]
  },
  {
   "cell_type": "code",
   "execution_count": 5,
   "id": "067182f9",
   "metadata": {
    "id": "067182f9",
    "outputId": "e20681b1-8f14-478a-c7d9-dfe6e7a0a805"
   },
   "outputs": [
    {
     "data": {
      "text/plain": [
       "Text(0, 0.5, 'Y-axis')"
      ]
     },
     "execution_count": 5,
     "metadata": {},
     "output_type": "execute_result"
    },
    {
     "data": {
      "image/png": "[encoded data removed]",
      "text/plain": [
       "<Figure size 432x288 with 1 Axes>"
      ]
     },
     "metadata": {
      "needs_background": "light"
     },
     "output_type": "display_data"
    }
   ],
   "source": [
    "import numpy as np\n",
    "import matplotlib.pyplot as plt\n",
    "import math as mt\n",
    "\n",
    "x = np.linspace(-100,100)\n",
    "q2 = x**3-5*x-9\n",
    "plt.plot(x,q2)\n",
    "plt.xlabel('X-axis')\n",
    "plt.ylabel('Y-axis')"
   ]
  },
  {
   "cell_type": "code",
   "execution_count": 6,
   "id": "993917f6",
   "metadata": {
    "id": "993917f6",
    "outputId": "e99f8569-181f-4abd-972c-3217da89714e"
   },
   "outputs": [
    {
     "data": {
      "text/plain": [
       "Text(0, 0.5, 'Y-axis')"
      ]
     },
     "execution_count": 6,
     "metadata": {},
     "output_type": "execute_result"
    },
    {
     "data": {
      "image/png": "[encoded data removed]",
      "text/plain": [
       "<Figure size 432x288 with 1 Axes>"
      ]
     },
     "metadata": {
      "needs_background": "light"
     },
     "output_type": "display_data"
    }
   ],
   "source": [
    "import numpy as np\n",
    "import matplotlib.pyplot as plt\n",
    "import math as mt\n",
    "\n",
    "x = np.linspace(-1,-5,12)\n",
    "q2 = 2*x**3-9.5*x+7.5\n",
    "plt.plot(x,q2)\n",
    "plt.xlabel('X-axis')\n",
    "plt.ylabel('Y-axis')"
   ]
  },
  {
   "cell_type": "code",
   "execution_count": 8,
   "id": "e6b85f68",
   "metadata": {
    "id": "e6b85f68",
    "outputId": "ccbd3c7a-91f8-4400-e274-03b0e526671b"
   },
   "outputs": [
    {
     "data": {
      "image/png": "[encoded data removed]",
      "text/plain": [
       "<Figure size 432x288 with 1 Axes>"
      ]
     },
     "metadata": {
      "needs_background": "light"
     },
     "output_type": "display_data"
    },
    {
     "data": {
      "text/plain": [
       "Text(0, 0.5, 'y-axis')"
      ]
     },
     "execution_count": 8,
     "metadata": {},
     "output_type": "execute_result"
    },
    {
     "data": {
      "image/png": "[encoded data removed]",
      "text/plain": [
       "<Figure size 432x288 with 1 Axes>"
      ]
     },
     "metadata": {
      "needs_background": "light"
     },
     "output_type": "display_data"
    }
   ],
   "source": [
    "import numpy as np\n",
    "import matplotlib.pyplot as plt\n",
    "import math as mt\n",
    "\n",
    "x = np.arange(0.1,1*np.pi,0.9)\n",
    "y = x**2 - np.sin(x)**2 - 4*x + 1 \n",
    "plt.plot(x,y)\n",
    "plt.show()\n",
    "plt.xlabel('x-axis',fontsize=20)\n",
    "plt.ylabel('y-axis',fontsize=20)"
   ]
  },
  {
   "cell_type": "code",
   "execution_count": 7,
   "id": "02c22af5",
   "metadata": {
    "id": "02c22af5",
    "outputId": "44377a94-b7f3-4bb4-d8fd-cf6e7353a1f5"
   },
   "outputs": [
    {
     "data": {
      "text/plain": [
       "Text(0, 0.5, 'y-axis')"
      ]
     },
     "execution_count": 7,
     "metadata": {},
     "output_type": "execute_result"
    },
    {
     "data": {
      "image/png": "[encoded data removed]",
      "text/plain": [
       "<Figure size 432x288 with 1 Axes>"
      ]
     },
     "metadata": {
      "needs_background": "light"
     },
     "output_type": "display_data"
    }
   ],
   "source": [
    "import numpy as np\n",
    "import matplotlib.pyplot as plt\n",
    "import math as mt\n",
    "\n",
    "x = np.linspace(4,6,16)\n",
    "q4 = 2*x**2 - 5*x + 3\n",
    "plt.plot(x,q4)\n",
    "plt.xlabel('X-axis')\n",
    "plt.ylabel('Y-axis')\n",
    "plt.xlabel('x-axis',fontsize=20)\n",
    "plt.ylabel('y-axis',fontsize=20)"
   ]
  },
  {
   "cell_type": "code",
   "execution_count": null,
   "id": "4d998d4b",
   "metadata": {},
   "outputs": [],
   "source": []
  }
 ],
 "metadata": {
  "colab": {
   "name": "Numerical_Methods_Assignment_1.ipynb",
   "provenance": []
  },
  "kernelspec": {
   "display_name": "Python 3 (ipykernel)",
   "language": "python",
   "name": "python3"
  },
  "language_info": {
   "codemirror_mode": {
    "name": "ipython",
    "version": 3
   },
   "file_extension": ".py",
   "mimetype": "text/x-python",
   "name": "python",
   "nbconvert_exporter": "python",
   "pygments_lexer": "ipython3",
   "version": "3.9.7"
  }
 },
 "nbformat": 4,
 "nbformat_minor": 5
}
