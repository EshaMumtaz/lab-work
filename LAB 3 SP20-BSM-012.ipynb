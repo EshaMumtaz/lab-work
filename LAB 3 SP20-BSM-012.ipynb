{
 "cells": [
  {
   "cell_type": "code",
   "execution_count": 1,
   "id": "a15cd567",
   "metadata": {},
   "outputs": [],
   "source": [
    "import numpy as np \n",
    "import matplotlib.pyplot as plt "
   ]
  },
  {
   "cell_type": "code",
   "execution_count": 4,
   "id": "a91a078e",
   "metadata": {},
   "outputs": [
    {
     "name": "stdout",
     "output_type": "stream",
     "text": [
      "my name is esha\n"
     ]
    }
   ],
   "source": [
    "a = 3\n",
    "b = 3\n",
    "if a==b :\n",
    "    print( \"my name is esha\")"
   ]
  },
  {
   "cell_type": "code",
   "execution_count": 5,
   "id": "6db64bdd",
   "metadata": {},
   "outputs": [
    {
     "name": "stdout",
     "output_type": "stream",
     "text": [
      "0\n",
      "1\n",
      "2\n",
      "3\n"
     ]
    }
   ],
   "source": [
    " a = 4\n",
    "if a==4 :\n",
    "    for i in range(a):\n",
    "        print(i)"
   ]
  },
  {
   "cell_type": "code",
   "execution_count": 11,
   "id": "3d6b3c33",
   "metadata": {},
   "outputs": [
    {
     "data": {
      "text/plain": [
       "52"
      ]
     },
     "execution_count": 11,
     "metadata": {},
     "output_type": "execute_result"
    }
   ],
   "source": [
    "x = 5\n",
    "f = lambda x: 2*x**2+2\n",
    "f(x)"
   ]
  },
  {
   "cell_type": "code",
   "execution_count": 20,
   "id": "3c2590fe",
   "metadata": {},
   "outputs": [
    {
     "name": "stdout",
     "output_type": "stream",
     "text": [
      "enter x2:10\n"
     ]
    }
   ],
   "source": [
    "# x1 = float(input('enter x1:'))\n",
    "x2 = float(input('enter x2:'))"
   ]
  },
  {
   "cell_type": "code",
   "execution_count": 23,
   "id": "4ac3ebb1",
   "metadata": {},
   "outputs": [
    {
     "data": {
      "text/plain": [
       "'x1'"
      ]
     },
     "execution_count": 23,
     "metadata": {},
     "output_type": "execute_result"
    }
   ],
   "source": [
    " 'x1'"
   ]
  },
  {
   "cell_type": "code",
   "execution_count": null,
   "id": "d347dd50",
   "metadata": {},
   "outputs": [],
   "source": [
    "esha012"
   ]
  }
 ],
 "metadata": {
  "kernelspec": {
   "display_name": "Python 3 (ipykernel)",
   "language": "python",
   "name": "python3"
  },
  "language_info": {
   "codemirror_mode": {
    "name": "ipython",
    "version": 3
   },
   "file_extension": ".py",
   "mimetype": "text/x-python",
   "name": "python",
   "nbconvert_exporter": "python",
   "pygments_lexer": "ipython3",
   "version": "3.9.7"
  }
 },
 "nbformat": 4,
 "nbformat_minor": 5
}
