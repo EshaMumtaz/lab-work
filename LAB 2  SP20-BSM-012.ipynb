{
 "cells": [
  {
   "cell_type": "code",
   "execution_count": 1,
   "id": "eb5bae7f",
   "metadata": {},
   "outputs": [],
   "source": [
    "a= \"true\"\n",
    "f= \"false\"\n",
    "c= a and f"
   ]
  },
  {
   "cell_type": "code",
   "execution_count": 2,
   "id": "64d0d6c3",
   "metadata": {},
   "outputs": [
    {
     "name": "stdout",
     "output_type": "stream",
     "text": [
      "false\n"
     ]
    }
   ],
   "source": [
    "print(c)"
   ]
  },
  {
   "cell_type": "code",
   "execution_count": 3,
   "id": "3947f399",
   "metadata": {},
   "outputs": [
    {
     "name": "stdout",
     "output_type": "stream",
     "text": [
      "false\n"
     ]
    }
   ],
   "source": [
    "print(a and f)"
   ]
  },
  {
   "cell_type": "code",
   "execution_count": 4,
   "id": "5baa59ab",
   "metadata": {},
   "outputs": [
    {
     "name": "stdout",
     "output_type": "stream",
     "text": [
      "true\n"
     ]
    }
   ],
   "source": [
    "print (a or f)"
   ]
  },
  {
   "cell_type": "code",
   "execution_count": 5,
   "id": "229ebeb1",
   "metadata": {},
   "outputs": [
    {
     "name": "stdout",
     "output_type": "stream",
     "text": [
      "False\n"
     ]
    }
   ],
   "source": [
    "print(not a)"
   ]
  },
  {
   "cell_type": "code",
   "execution_count": 6,
   "id": "9151478e",
   "metadata": {},
   "outputs": [
    {
     "name": "stdout",
     "output_type": "stream",
     "text": [
      "True\n"
     ]
    }
   ],
   "source": [
    "print(a !=f)"
   ]
  },
  {
   "cell_type": "code",
   "execution_count": 7,
   "id": "712f9c09",
   "metadata": {},
   "outputs": [],
   "source": [
    "a= True\n",
    "f= False \n",
    "g= True"
   ]
  },
  {
   "cell_type": "code",
   "execution_count": 8,
   "id": "fc571786",
   "metadata": {},
   "outputs": [
    {
     "name": "stdout",
     "output_type": "stream",
     "text": [
      "True\n"
     ]
    }
   ],
   "source": [
    "print (a and a and g)"
   ]
  },
  {
   "cell_type": "code",
   "execution_count": 9,
   "id": "ee8ef6d2",
   "metadata": {},
   "outputs": [
    {
     "name": "stdout",
     "output_type": "stream",
     "text": [
      "True\n"
     ]
    }
   ],
   "source": [
    "print (a and f or g)"
   ]
  },
  {
   "cell_type": "code",
   "execution_count": 10,
   "id": "1d2d3796",
   "metadata": {},
   "outputs": [
    {
     "name": "stdout",
     "output_type": "stream",
     "text": [
      "True\n"
     ]
    }
   ],
   "source": [
    "print (g !=f)"
   ]
  },
  {
   "cell_type": "code",
   "execution_count": 11,
   "id": "4e932281",
   "metadata": {},
   "outputs": [],
   "source": [
    "a= True\n",
    "f= False\n",
    "g= a and f and a or f and a or f"
   ]
  },
  {
   "cell_type": "code",
   "execution_count": 12,
   "id": "b655d911",
   "metadata": {},
   "outputs": [
    {
     "name": "stdout",
     "output_type": "stream",
     "text": [
      "False\n"
     ]
    }
   ],
   "source": [
    "a= True \n",
    "b= False\n",
    "c= False\n",
    "g= a and b or c\n",
    "print (g)"
   ]
  },
  {
   "cell_type": "code",
   "execution_count": 13,
   "id": "9f15d4cc",
   "metadata": {},
   "outputs": [
    {
     "name": "stdout",
     "output_type": "stream",
     "text": [
      "False\n",
      "True\n"
     ]
    }
   ],
   "source": [
    "a= True \n",
    "b= False\n",
    "c= False \n",
    "g= a and b or c\n",
    "p= a or b and c\n",
    "print(g)\n",
    "print(p)"
   ]
  },
  {
   "cell_type": "code",
   "execution_count": 14,
   "id": "66478681",
   "metadata": {},
   "outputs": [],
   "source": [
    "nums = list(range(5))"
   ]
  },
  {
   "cell_type": "code",
   "execution_count": 15,
   "id": "999289a8",
   "metadata": {},
   "outputs": [
    {
     "name": "stdout",
     "output_type": "stream",
     "text": [
      "[0, 1, 2, 3, 4]\n"
     ]
    }
   ],
   "source": [
    "print(nums)"
   ]
  },
  {
   "cell_type": "code",
   "execution_count": 16,
   "id": "80ea306d",
   "metadata": {},
   "outputs": [
    {
     "name": "stdout",
     "output_type": "stream",
     "text": [
      "[2, 3]\n"
     ]
    }
   ],
   "source": [
    "print(nums[2:4])"
   ]
  },
  {
   "cell_type": "code",
   "execution_count": 17,
   "id": "5b03f2d1",
   "metadata": {},
   "outputs": [
    {
     "name": "stdout",
     "output_type": "stream",
     "text": [
      "[0, 1]\n"
     ]
    }
   ],
   "source": [
    "print(nums[:2])"
   ]
  },
  {
   "cell_type": "code",
   "execution_count": 18,
   "id": "3e65d573",
   "metadata": {},
   "outputs": [
    {
     "name": "stdout",
     "output_type": "stream",
     "text": [
      "[0, 1, 2, 3, 4]\n"
     ]
    }
   ],
   "source": [
    "print(nums[:])"
   ]
  },
  {
   "cell_type": "code",
   "execution_count": 19,
   "id": "9947b155",
   "metadata": {},
   "outputs": [
    {
     "name": "stdout",
     "output_type": "stream",
     "text": [
      "[0, 1, 2, 3]\n"
     ]
    }
   ],
   "source": [
    "print(nums[:-1])"
   ]
  },
  {
   "cell_type": "code",
   "execution_count": 20,
   "id": "b261606c",
   "metadata": {},
   "outputs": [],
   "source": [
    "nums[1:2] = [8,9,5,7,2,4,9]"
   ]
  },
  {
   "cell_type": "code",
   "execution_count": 21,
   "id": "55d0c8a0",
   "metadata": {},
   "outputs": [
    {
     "name": "stdout",
     "output_type": "stream",
     "text": [
      "[0, 8, 9, 5, 7, 2, 4, 9, 2, 3, 4]\n"
     ]
    }
   ],
   "source": [
    "print(nums)"
   ]
  },
  {
   "cell_type": "code",
   "execution_count": null,
   "id": "adf4f789",
   "metadata": {},
   "outputs": [],
   "source": []
  }
 ],
 "metadata": {
  "kernelspec": {
   "display_name": "Python 3 (ipykernel)",
   "language": "python",
   "name": "python3"
  },
  "language_info": {
   "codemirror_mode": {
    "name": "ipython",
    "version": 3
   },
   "file_extension": ".py",
   "mimetype": "text/x-python",
   "name": "python",
   "nbconvert_exporter": "python",
   "pygments_lexer": "ipython3",
   "version": "3.9.7"
  }
 },
 "nbformat": 4,
 "nbformat_minor": 5
}
